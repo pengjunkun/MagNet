{
 "cells": [
  {
   "cell_type": "code",
   "execution_count": null,
   "metadata": {},
   "outputs": [],
   "source": [
    "#datagen\n",
    "import csv\n",
    "import random\n",
    "import numpy as np\n",
    "import os\n",
    "\n",
    "time_beg = 1430668800\n",
    "lat_beg = 39.7\n",
    "lon_beg = 116\n",
    "gap = 0.2\n",
    "uid_max = 10000\n",
    "data_num = 1000000\n",
    "tot_time = 24 * 3600 * 1\n",
    "\n",
    "if os.path.exists(\"./data\") == False:\n",
    "  os.mkdir(\"./data\")"
   ]
  },
  {
   "cell_type": "code",
   "execution_count": 4,
   "metadata": {},
   "outputs": [],
   "source": [
    "mu ,sigma = 10, 5\n",
    "np.random.seed(0)\n",
    "# lat/lon -- Normal distribution\n",
    "lat_norm = np.random.normal(mu, sigma, data_num)\n",
    "lon_norm = np.random.normal(mu, sigma, data_num)\n",
    "\n",
    "# vid -- zipf distribution\n",
    "a = 1.1\n",
    "vid_zipf = np.random.zipf(a, data_num)\n",
    "\n",
    "file_name = \"./data/datagen.csv\"\n",
    "\n",
    "f = open(file_name, 'w', newline='')\n",
    "csv_writer = csv.writer(f)\n",
    "\n",
    "for i in range(data_num):\n",
    "  uid = random.randint(1,uid_max)\n",
    "  time_stamp = time_beg + i / data_num * tot_time\n",
    "  lon = lon_norm[i] / 20 * gap + lon_beg\n",
    "  lat = lat_norm[i] / 20 * gap + lat_beg\n",
    "  vid = vid_zipf[i]\n",
    "\n",
    "  write_data = [uid, time_stamp, lon, lat, vid]\n",
    "  csv_writer.writerow(write_data)\n",
    "f.close()\n"
   ]
  }
 ],
 "metadata": {
  "kernelspec": {
   "display_name": "Python 3.9.6 64-bit",
   "language": "python",
   "name": "python3"
  },
  "language_info": {
   "codemirror_mode": {
    "name": "ipython",
    "version": 3
   },
   "file_extension": ".py",
   "mimetype": "text/x-python",
   "name": "python",
   "nbconvert_exporter": "python",
   "pygments_lexer": "ipython3",
   "version": "3.9.6"
  },
  "orig_nbformat": 4,
  "vscode": {
   "interpreter": {
    "hash": "7321171118b5372ff681eda7abb23b2b9e44fe13adc23e854647b1f356ef87ac"
   }
  }
 },
 "nbformat": 4,
 "nbformat_minor": 2
}
