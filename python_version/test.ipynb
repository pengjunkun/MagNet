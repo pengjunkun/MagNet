{
 "cells": [
  {
   "cell_type": "code",
   "execution_count": null,
   "metadata": {},
   "outputs": [],
   "source": [
    "import math \n",
    "\n",
    "cnt = 0\n",
    "for i in range(14):\n",
    "  for j in range(14):\n",
    "    if math.sqrt((i-7) ** 2 + (j-7) ** 2):\n",
    "      cnt += 1\n",
    "\n",
    "print(cnt)"
   ]
  },
  {
   "cell_type": "code",
   "execution_count": null,
   "metadata": {},
   "outputs": [],
   "source": [
    "from collections import OrderedDict\n",
    "import operator\n",
    "\n",
    "cache = OrderedDict()\n",
    "cache[16] = True\n",
    "cache[12] = True\n",
    "cache[13] = True\n",
    "cache[22] = True\n",
    "cache[11] = True\n",
    "cache[24] = True\n",
    "cache[23] = True\n",
    "\n",
    "class_num = {}\n",
    "for vid in list(cache.keys()):\n",
    "  class_id = vid % 10\n",
    "  if class_id not in class_num.keys():\n",
    "    class_num[class_id] = 0\n",
    "  class_num[class_id] += 1\n",
    "sorted_class_num = sorted(class_num.items(), key=operator.itemgetter(1), reverse=False)\n",
    "\n",
    "print(\"cache len \", len(cache))\n",
    "\n",
    "del_class_id = {}\n",
    "for i in range(3):\n",
    "  print(sorted_class_num[i][0])\n",
    "  del_class_id[sorted_class_num[i][0]] = True\n",
    "\n",
    "print(\"================================================\")\n",
    "\n",
    "for vid in list(cache.keys()):\n",
    "  class_id = vid % 10\n",
    "  if class_id in del_class_id.keys():\n",
    "    print(vid)\n",
    "    cache.pop(vid)\n",
    "\n",
    "print(\"cache len \", len(cache))"
   ]
  },
  {
   "cell_type": "code",
   "execution_count": null,
   "metadata": {},
   "outputs": [],
   "source": [
    "from collections import OrderedDict\n",
    "cache = OrderedDict()\n",
    "cache_new = OrderedDict()\n",
    "\n",
    "cache[3] = True\n",
    "cache[1382] = True\n",
    "cache[49] = True\n",
    "cache[372] = True\n",
    "\n",
    "print(cache)\n",
    "print(cache_new)\n",
    "\n",
    "# for vid in list(cache.keys()):\n",
    "#   cache_new[vid] = True\n",
    "for i in range(2):\n",
    "  vid = cache.popitem(last=False)[0]\n",
    "  cache_new[vid] = True\n",
    "\n",
    "\n",
    "print(cache)\n",
    "print(cache_new)"
   ]
  },
  {
   "cell_type": "code",
   "execution_count": 4,
   "metadata": {},
   "outputs": [
    {
     "name": "stdout",
     "output_type": "stream",
     "text": [
      "33350\n",
      "67863\n"
     ]
    },
    {
     "data": {
      "image/png": "[encoded data removed]",
      "text/plain": [
       "<Figure size 432x288 with 1 Axes>"
      ]
     },
     "metadata": {
      "needs_background": "light"
     },
     "output_type": "display_data"
    }
   ],
   "source": [
    "import matplotlib.pyplot as plt\n",
    "import pandas as pd\n",
    "\n",
    "l_list = []\n",
    "\n",
    "s = []\n",
    "df = pd.read_csv('old_content.csv', header=None)\n",
    "for i in range(len(df)):\n",
    "  s.append(df.iloc[i][0])\n",
    "# y = sorted(s, reverse = True)\n",
    "print(len(s))\n",
    "length = int(0.01 * len(s))\n",
    "y = s[: length]\n",
    "x = [i for i in range(length)]\n",
    "l, = plt.plot(x, y, color='r', label=\"old_content\")\n",
    "l_list.append(l)\n",
    "\n",
    "s = []\n",
    "df = pd.read_csv('new_content.csv', header=None)\n",
    "for i in range(len(df)):\n",
    "  s.append(df.iloc[i][0])\n",
    "print(len(s))\n",
    "y = s[: length]\n",
    "x = [i for i in range(length)]\n",
    "l, = plt.plot(x, y, color='blue', label=\"new_content\")\n",
    "l_list.append(l)\n",
    "\n",
    "plt.legend(handles=l_list)\n",
    "# plt.plot(x, y, linewidth=2, color='r')\n",
    "plt.show()\n"
   ]
  }
 ],
 "metadata": {
  "kernelspec": {
   "display_name": "Python 3.8.0 64-bit",
   "language": "python",
   "name": "python3"
  },
  "language_info": {
   "codemirror_mode": {
    "name": "ipython",
    "version": 3
   },
   "file_extension": ".py",
   "mimetype": "text/x-python",
   "name": "python",
   "nbconvert_exporter": "python",
   "pygments_lexer": "ipython3",
   "version": "3.8.0"
  },
  "orig_nbformat": 4,
  "vscode": {
   "interpreter": {
    "hash": "df0893f56f349688326838aaeea0de204df53a132722cbd565e54b24a8fec5f6"
   }
  }
 },
 "nbformat": 4,
 "nbformat_minor": 2
}
